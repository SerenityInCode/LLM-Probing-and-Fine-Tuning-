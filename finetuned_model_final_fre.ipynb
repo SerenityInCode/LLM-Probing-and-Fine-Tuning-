{
 "cells": [
  {
   "cell_type": "code",
   "execution_count": 1,
   "id": "7a85fd2b",
   "metadata": {},
   "outputs": [
    {
     "name": "stdout",
     "output_type": "stream",
     "text": [
      "Requirement already satisfied: textstat in /home/sharmajidotdev/manish/.venv/lib/python3.12/site-packages (0.7.8)\n",
      "Requirement already satisfied: pyphen in /home/sharmajidotdev/manish/.venv/lib/python3.12/site-packages (from textstat) (0.17.2)\n",
      "Requirement already satisfied: cmudict in /home/sharmajidotdev/manish/.venv/lib/python3.12/site-packages (from textstat) (1.1.1)\n",
      "Requirement already satisfied: setuptools in /home/sharmajidotdev/manish/.venv/lib/python3.12/site-packages (from textstat) (80.9.0)\n",
      "Requirement already satisfied: importlib-metadata>=5 in /home/sharmajidotdev/manish/.venv/lib/python3.12/site-packages (from cmudict->textstat) (8.7.0)\n",
      "Requirement already satisfied: importlib-resources>=5 in /home/sharmajidotdev/manish/.venv/lib/python3.12/site-packages (from cmudict->textstat) (6.5.2)\n",
      "Requirement already satisfied: zipp>=3.20 in /home/sharmajidotdev/manish/.venv/lib/python3.12/site-packages (from importlib-metadata>=5->cmudict->textstat) (3.23.0)\n",
      "Note: you may need to restart the kernel to use updated packages.\n"
     ]
    }
   ],
   "source": [
    "pip install textstat"
   ]
  },
  {
   "cell_type": "code",
   "execution_count": 3,
   "id": "2c839b78",
   "metadata": {},
   "outputs": [
    {
     "name": "stdout",
     "output_type": "stream",
     "text": [
      " Step 1: Preparing the Readability Dataset \n",
      "Loading and processing documents from the corpus...\n",
      "Successfully processed 567 documents.\n",
      "Example document text: Intermediate \n",
      "Water scientists have given one of the strongest warnings ever about global food suppl...\n",
      "Example FRE score: 48.10\n",
      "\n",
      "Step 1: Completed.\n"
     ]
    }
   ],
   "source": [
    "import os\n",
    "import textstat\n",
    "import pandas as pd\n",
    "import torch\n",
    "import numpy as np\n",
    "import pickle\n",
    "from datasets import Dataset\n",
    "from tqdm.auto import tqdm\n",
    "from sklearn.model_selection import KFold\n",
    "from sklearn.metrics import mean_absolute_error, r2_score\n",
    "from transformers import (\n",
    "    DistilBertTokenizerFast,\n",
    "    DistilBertForSequenceClassification,\n",
    "    Trainer,\n",
    "    TrainingArguments\n",
    ")\n",
    "\n",
    "print(\" Step 1: Preparing the Readability Dataset \")\n",
    "\n",
    "corpus_path = \"/home/sharmajidotdev/manish/msdataset/Texts-SeparatedByReadingLevel\" \n",
    "\n",
    "if not os.path.exists(corpus_path):\n",
    "    print(f\"Error: The corpus directory '{corpus_path}' does not exist.\")\n",
    "    print(\"Please download the corpus \")\n",
    "    exit()\n",
    "\n",
    "all_documents = []\n",
    "all_fkgl_scores = []\n",
    "all_fre_scores = []\n",
    "all_levels = []\n",
    "\n",
    "print(\"Loading and processing documents from the corpus...\")\n",
    "for level_dir in os.listdir(corpus_path):\n",
    "    level_path = os.path.join(corpus_path, level_dir)\n",
    "    if os.path.isdir(level_path):\n",
    "        for filename in os.listdir(level_path):\n",
    "            if filename.endswith('.txt'):\n",
    "                file_path = os.path.join(level_path, filename)\n",
    "                with open(file_path, 'r', encoding='utf-8') as f:\n",
    "                    text = f.read()\n",
    "                    \n",
    "                    if text.strip():\n",
    "                        fkgl = textstat.flesch_kincaid_grade(text)\n",
    "                        fre = textstat.flesch_reading_ease(text)\n",
    "                        \n",
    "                        all_documents.append(text)\n",
    "                        all_fkgl_scores.append(fkgl)\n",
    "                        all_fre_scores.append(fre)\n",
    "                        all_levels.append(level_dir)\n",
    "\n",
    "readability_dataset = Dataset.from_dict({\n",
    "    'text': all_documents,\n",
    "    'fkgl_score': all_fkgl_scores,\n",
    "    'fre_score': all_fre_scores,\n",
    "    'level': all_levels\n",
    "})\n",
    "    \n",
    "print(f\"Successfully processed {len(readability_dataset)} documents.\")\n",
    "print(f\"Example document text: {readability_dataset[0]['text'][:100]}...\")\n",
    "print(f\"Example FRE score: {readability_dataset[0]['fre_score']:.2f}\")\n",
    "\n",
    "print(\"\\nStep 1: Completed.\")"
   ]
  },
  {
   "cell_type": "code",
   "execution_count": 5,
   "id": "fd7100c1",
   "metadata": {},
   "outputs": [
    {
     "name": "stdout",
     "output_type": "stream",
     "text": [
      "\n",
      " Step 2: Fine-Tuning BERT for FRE Scores \n",
      "Using device: cuda\n"
     ]
    }
   ],
   "source": [
    "print(\"\\n Step 2: Fine-Tuning BERT for FRE Scores \")\n",
    "\n",
    "model_name = 'distilbert-base-uncased'\n",
    "tokenizer = DistilBertTokenizerFast.from_pretrained(model_name)\n",
    "device = torch.device(\"cuda\" if torch.cuda.is_available() else \"cpu\")\n",
    "print(f\"Using device: {device}\")\n",
    "\n",
    "MODEL_DIR_READABILITY = \"/home/sharmajidotdev/manish/models/readability\"\n",
    "os.makedirs(MODEL_DIR_READABILITY, exist_ok=True)\n",
    "os.makedirs(os.path.join(MODEL_DIR_READABILITY, \"Fre\"), exist_ok=True)\n",
    "\n",
    "fine_tune_results_fre = {'mae': [], 'r2': []}\n",
    "\n",
    "N_SPLITS = 5\n",
    "kf = KFold(n_splits=N_SPLITS, shuffle=True, random_state=42)\n",
    "\n",
    "def tokenize_and_label_function(examples, label_column_name):\n",
    "    tokenized_inputs = tokenizer(examples['text'], padding=\"max_length\", truncation=True, max_length=256)\n",
    "    tokenized_inputs['labels'] = torch.tensor(examples[label_column_name], dtype=torch.float32)\n",
    "    return tokenized_inputs\n",
    "\n",
    "def compute_metrics_regression(eval_pred):\n",
    "    predictions, labels = eval_pred\n",
    "    mae = mean_absolute_error(labels, predictions)\n",
    "    r2 = r2_score(labels, predictions)\n",
    "    return {\"mae\": mae, \"r2\": r2}"
   ]
  },
  {
   "cell_type": "code",
   "execution_count": 7,
   "id": "a5e6bba8",
   "metadata": {},
   "outputs": [
    {
     "name": "stdout",
     "output_type": "stream",
     "text": [
      "\n",
      "--- Fold 1/5 already completed. Skipping. ---\n",
      "\n",
      "--- Fold 2/5 already completed. Skipping. ---\n",
      "\n",
      "--- Fold 3/5 already completed. Skipping. ---\n",
      "\n",
      "--- Fold 4/5 already completed. Skipping. ---\n",
      "\n",
      "--- Fold 5/5 already completed. Skipping. ---\n"
     ]
    }
   ],
   "source": [
    "for fold_idx, (train_val_indices, test_indices) in enumerate(kf.split(readability_dataset)):\n",
    "    \n",
    "    fre_checkpoint_path = os.path.join(MODEL_DIR_READABILITY, f\"Fre/best_fold_{fold_idx}\")\n",
    "    \n",
    "    if os.path.exists(fre_checkpoint_path):\n",
    "        print(f\"\\n--- Fold {fold_idx + 1}/{N_SPLITS} already completed. Skipping. ---\")\n",
    "        continue\n",
    "    \n",
    "    print(f\"\\n--- Fine-Tuning for Fold {fold_idx + 1}/{N_SPLITS} ---\")\n",
    "\n",
    "    train_val_dataset = readability_dataset.select(train_val_indices)\n",
    "    test_dataset = readability_dataset.select(test_indices)\n",
    "    \n",
    "    train_dataset, val_dataset = train_val_dataset.train_test_split(test_size=0.2).values()\n",
    "    \n",
    "    print(f\"\\n Fine Tuning for FRE for Fold {fold_idx + 1} ---\")\n",
    "    model_fre = DistilBertForSequenceClassification.from_pretrained(model_name, num_labels=1).to(device)\n",
    "\n",
    "    tokenized_train_fre = train_dataset.map(lambda x: tokenize_and_label_function(x, 'fre_score'), batched=True)\n",
    "    tokenized_val_fre = val_dataset.map(lambda x: tokenize_and_label_function(x, 'fre_score'), batched=True)\n",
    "    tokenized_test_fre = test_dataset.map(lambda x: tokenize_and_label_function(x, 'fre_score'), batched=True)\n",
    "\n",
    "    training_args_fre = TrainingArguments(\n",
    "        output_dir=os.path.join(MODEL_DIR_READABILITY, f\"fre/fold_{fold_idx}\"),\n",
    "        run_name=f\"fre-fold-{fold_idx}\",\n",
    "        num_train_epochs=3, per_device_train_batch_size=8, per_device_eval_batch_size=8,\n",
    "        weight_decay=0.01, eval_strategy=\"epoch\", logging_dir='./logs',logging_steps=10,\n",
    "        save_strategy=\"epoch\", load_best_model_at_end=True,\n",
    "    )\n",
    "    \n",
    "    trainer_fre = Trainer(\n",
    "        model=model_fre, args=training_args_fre, train_dataset=tokenized_train_fre,\n",
    "        eval_dataset=tokenized_val_fre, compute_metrics=compute_metrics_regression, tokenizer=tokenizer,\n",
    "    )\n",
    "    \n",
    "    trainer_fre.train()\n",
    "    eval_results_fre = trainer_fre.evaluate(tokenized_test_fre)\n",
    "    fine_tune_results_fre['mae'].append(eval_results_fre['eval_mae'])\n",
    "    fine_tune_results_fre['r2'].append(eval_results_fre['eval_r2'])\n",
    "    print(f\"Fold {fold_idx+1} FRE Test Results: {eval_results_fre}\")\n",
    "    model_fre.save_pretrained(os.path.join(MODEL_DIR_READABILITY, f\"Fre/best_fold_{fold_idx}\"))\n"
   ]
  },
  {
   "cell_type": "code",
   "execution_count": 8,
   "id": "74b4b636",
   "metadata": {},
   "outputs": [
    {
     "name": "stdout",
     "output_type": "stream",
     "text": [
      "\n",
      " FRE Fine Tuning Summary \n",
      "Average Fine Tuning Performance (FRE) across 5 folds: MAE=46.1669, R2=-22.9090\n"
     ]
    }
   ],
   "source": [
    "print(\"\\n FRE Fine Tuning Summary \")\n",
    "avg_fre_mae = np.mean(fine_tune_results_fre['mae'])\n",
    "avg_fre_r2 = np.mean(fine_tune_results_fre['r2'])\n",
    "print(f\"Average Fine Tuning Performance (FRE) across 5 folds: MAE={avg_fre_mae:.4f}, R2={avg_fre_r2:.4f}\")"
   ]
  },
  {
   "cell_type": "code",
   "execution_count": null,
   "id": "06e5b075",
   "metadata": {},
   "outputs": [],
   "source": []
  }
 ],
 "metadata": {
  "kernelspec": {
   "display_name": ".venv",
   "language": "python",
   "name": "python3"
  },
  "language_info": {
   "codemirror_mode": {
    "name": "ipython",
    "version": 3
   },
   "file_extension": ".py",
   "mimetype": "text/x-python",
   "name": "python",
   "nbconvert_exporter": "python",
   "pygments_lexer": "ipython3",
   "version": "3.12.3"
  }
 },
 "nbformat": 4,
 "nbformat_minor": 5
}
